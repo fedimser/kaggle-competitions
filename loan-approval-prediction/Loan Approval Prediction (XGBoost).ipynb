{
 "cells": [
  {
   "cell_type": "code",
   "execution_count": 69,
   "id": "216dfc7f",
   "metadata": {},
   "outputs": [],
   "source": [
    "import pandas as pd\n",
    "import numpy as np\n",
    "from sklearn.model_selection import train_test_split\n",
    "from sklearn import metrics\n",
    "from matplotlib import pyplot as plt\n",
    "import xgboost as xgb\n",
    "from sklearn.linear_model import LogisticRegression"
   ]
  },
  {
   "cell_type": "markdown",
   "id": "de5b8314",
   "metadata": {},
   "source": [
    "### Preparing data"
   ]
  },
  {
   "cell_type": "code",
   "execution_count": 144,
   "id": "af16b593",
   "metadata": {},
   "outputs": [],
   "source": [
    "# Categorical features.\n",
    "DICT_INTENT = ['DEBTCONSOLIDATION','EDUCATION', 'HOMEIMPROVEMENT', 'MEDICAL', 'PERSONAL', 'VENTURE']\n",
    "DICT_PHO =  ['MORTGAGE', 'OTHER', 'OWN', 'RENT']\n",
    "\n",
    "def row_to_numbers(row):\n",
    "  # Add all numerical features.\n",
    "  ans = [\n",
    "    row['person_age'],row['person_income'],row['person_emp_length'],row['loan_amnt'],\n",
    "    row['loan_int_rate'], row['loan_percent_income'], row['cb_person_cred_hist_length']\n",
    "  ]\n",
    "  \n",
    "  loan_grade = 7 - (ord(row['loan_grade'])-ord('A'))\n",
    "  assert 1 <= loan_grade <= 7\n",
    "  ans += [loan_grade]\n",
    "  \n",
    "  pdof = row[\"cb_person_default_on_file\"]\n",
    "  assert pdof in \"NY\"\n",
    "  ans += [1 if pdof==\"Y\" else 0]\n",
    "  \n",
    "  ans += [int(row[\"loan_intent\"]==DICT_INTENT[i]) for i in range(len(DICT_INTENT))]\n",
    "  ans += [int(row[\"person_home_ownership\"]==DICT_PHO[i]) for i in range(len(DICT_PHO))]\n",
    "  \n",
    "  return ans\n",
    "  \n",
    "def df_to_x(df):\n",
    "  ans = []\n",
    "  for _, row in df.iterrows():\n",
    "    ans.append(row_to_numbers(row))\n",
    "  return np.array(ans)\n",
    "\n",
    "def df_to_y(df):\n",
    "  return np.array([row['loan_status'] for _, row in df.iterrows()])\n",
    "\n",
    "\n",
    "\n",
    "df_train = pd.read_csv('train.csv')\n",
    "X_train_full = df_to_x(df_train)\n",
    "y_train_full = df_to_y(df_train)"
   ]
  },
  {
   "cell_type": "code",
   "execution_count": 145,
   "id": "a8e1c160",
   "metadata": {},
   "outputs": [
    {
     "name": "stdout",
     "output_type": "stream",
     "text": [
      "(52780, 19) (52780,) (5865, 19) (5865,)\n"
     ]
    }
   ],
   "source": [
    "X_train, X_val, y_train, y_val = train_test_split(X_train_full, y_train_full, test_size=0.1, random_state=0)\n",
    "print(X_train.shape, y_train.shape, X_val.shape, y_val.shape)"
   ]
  },
  {
   "cell_type": "markdown",
   "id": "a4883d67",
   "metadata": {},
   "source": [
    "### Training"
   ]
  },
  {
   "cell_type": "code",
   "execution_count": 147,
   "id": "b686716c",
   "metadata": {},
   "outputs": [],
   "source": [
    "#logreg = LogisticRegression(random_state=16)\n",
    "#logreg.fit(X_train, y_train)"
   ]
  },
  {
   "cell_type": "code",
   "execution_count": 146,
   "id": "b079c5d0",
   "metadata": {},
   "outputs": [
    {
     "data": {
      "image/png": "[encoded data removed]",
      "text/plain": [
       "<Figure size 640x480 with 1 Axes>"
      ]
     },
     "metadata": {},
     "output_type": "display_data"
    }
   ],
   "source": [
    "dtrain_reg = xgb.DMatrix(X_train, y_train)\n",
    "dval_reg = xgb.DMatrix(X_val)\n",
    "\n",
    "params = {\n",
    "  \"objective\": \"reg:logistic\",\n",
    "  \"eval_metric\": \"auc\",\n",
    "  \"tree_method\":\"auto\",\n",
    "  #\"eta\":0.03\n",
    "}\n",
    "\n",
    "model = xgb.train(\n",
    "   params=params,\n",
    "   dtrain=dtrain_reg,\n",
    "   num_boost_round=150,\n",
    ")\n",
    "\n",
    "#y_pred_proba = logreg.predict_proba(X_val)[::,1]\n",
    "y_pred_proba = model.predict(dval_reg)\n",
    "fpr, tpr, _ = metrics.roc_curve(y_val, y_pred_proba)\n",
    "auc = metrics.roc_auc_score(y_val, y_pred_proba)\n",
    "plt.plot(fpr,tpr,label=\"data 1, auc=\"+str(auc))\n",
    "plt.legend(loc=4)\n",
    "plt.show()"
   ]
  },
  {
   "cell_type": "code",
   "execution_count": null,
   "id": "4f7fd28a",
   "metadata": {},
   "outputs": [],
   "source": []
  },
  {
   "cell_type": "code",
   "execution_count": 119,
   "id": "70ff45ea",
   "metadata": {},
   "outputs": [
    {
     "name": "stdout",
     "output_type": "stream",
     "text": [
      "(39098, 19)\n"
     ]
    }
   ],
   "source": [
    "df_test = pd.read_csv('test.csv')\n",
    "X_test = df_to_x(df_test)\n",
    "print(X_test.shape)\n",
    "\n",
    "#y_pred = logreg.predict_proba(X_test)[::,1]\n",
    "y_pred = model.predict(xgb.DMatrix(X_test))\n",
    "\n",
    "df_ans = pd.DataFrame({\"id\":df_test['id'], \"loan_status\": y_pred})\n",
    "df_ans.to_csv('ans.csv',index=False)"
   ]
  }
 ],
 "metadata": {
  "kernelspec": {
   "display_name": "Python 3 (ipykernel)",
   "language": "python",
   "name": "python3"
  },
  "language_info": {
   "codemirror_mode": {
    "name": "ipython",
    "version": 3
   },
   "file_extension": ".py",
   "mimetype": "text/x-python",
   "name": "python",
   "nbconvert_exporter": "python",
   "pygments_lexer": "ipython3",
   "version": "3.10.12"
  }
 },
 "nbformat": 4,
 "nbformat_minor": 5
}
