{
 "cells": [
  {
   "cell_type": "code",
   "execution_count": 1,
   "id": "216dfc7f",
   "metadata": {},
   "outputs": [],
   "source": [
    "import pandas as pd\n",
    "import numpy as np\n",
    "from sklearn.model_selection import train_test_split\n",
    "from sklearn import metrics\n",
    "from matplotlib import pyplot as plt\n",
    "import xgboost as xgb\n",
    "from sklearn.linear_model import LogisticRegression"
   ]
  },
  {
   "cell_type": "markdown",
   "id": "de5b8314",
   "metadata": {},
   "source": [
    "### Preparing data"
   ]
  },
  {
   "cell_type": "code",
   "execution_count": 2,
   "id": "af16b593",
   "metadata": {},
   "outputs": [
    {
     "name": "stdout",
     "output_type": "stream",
     "text": [
      "(58058, 19) (58058,) (587, 19) (587,)\n"
     ]
    }
   ],
   "source": [
    "# Categorical features.\n",
    "DICT_INTENT = ['DEBTCONSOLIDATION','EDUCATION', 'HOMEIMPROVEMENT', 'MEDICAL', 'PERSONAL', 'VENTURE']\n",
    "DICT_PHO =  ['MORTGAGE', 'OTHER', 'OWN', 'RENT']\n",
    "\n",
    "def row_to_numbers(row):\n",
    "  # Add all numerical features.\n",
    "  ans = [\n",
    "    row['person_age'],row['person_income'],row['person_emp_length'],row['loan_amnt'],\n",
    "    row['loan_int_rate'], row['loan_percent_income'], row['cb_person_cred_hist_length']\n",
    "  ]\n",
    "  \n",
    "  loan_grade = 7 - (ord(row['loan_grade'])-ord('A'))\n",
    "  assert 1 <= loan_grade <= 7\n",
    "  ans += [loan_grade]\n",
    "  \n",
    "  pdof = row[\"cb_person_default_on_file\"]\n",
    "  assert pdof in \"NY\"\n",
    "  ans += [1 if pdof==\"Y\" else 0]\n",
    "  \n",
    "  ans += [int(row[\"loan_intent\"]==DICT_INTENT[i]) for i in range(len(DICT_INTENT))]\n",
    "  ans += [int(row[\"person_home_ownership\"]==DICT_PHO[i]) for i in range(len(DICT_PHO))]\n",
    "  \n",
    "  return ans\n",
    "  \n",
    "def df_to_x(df):\n",
    "  ans = []\n",
    "  for _, row in df.iterrows():\n",
    "    ans.append(row_to_numbers(row))\n",
    "  return np.array(ans)\n",
    "\n",
    "def df_to_y(df):\n",
    "  return np.array([row['loan_status'] for _, row in df.iterrows()])\n",
    "\n",
    "\n",
    "\n",
    "df_train = pd.read_csv('train.csv')\n",
    "X_train_full = df_to_x(df_train)\n",
    "y_train_full = df_to_y(df_train)\n",
    "\n",
    "X_train, X_val, y_train, y_val = train_test_split(X_train_full, y_train_full, test_size=0.01, random_state=0)\n",
    "print(X_train.shape, y_train.shape, X_val.shape, y_val.shape)"
   ]
  },
  {
   "cell_type": "markdown",
   "id": "a4883d67",
   "metadata": {},
   "source": [
    "### Training"
   ]
  },
  {
   "cell_type": "code",
   "execution_count": 44,
   "id": "b686716c",
   "metadata": {},
   "outputs": [
    {
     "name": "stdout",
     "output_type": "stream",
     "text": [
      "Epoch 1/100\n",
      "\u001b[1m523/523\u001b[0m \u001b[32m━━━━━━━━━━━━━━━━━━━━\u001b[0m\u001b[37m\u001b[0m \u001b[1m1s\u001b[0m 922us/step - accuracy: 0.8569 - auc: 0.8033 - loss: 0.4109 - val_accuracy: 0.8781 - val_auc: 0.8899 - val_loss: 0.2943\n",
      "Epoch 2/100\n",
      "\u001b[1m523/523\u001b[0m \u001b[32m━━━━━━━━━━━━━━━━━━━━\u001b[0m\u001b[37m\u001b[0m \u001b[1m0s\u001b[0m 677us/step - accuracy: 0.8970 - auc: 0.8765 - loss: 0.2826 - val_accuracy: 0.9132 - val_auc: 0.9052 - val_loss: 0.2581\n",
      "Epoch 3/100\n",
      "\u001b[1m523/523\u001b[0m \u001b[32m━━━━━━━━━━━━━━━━━━━━\u001b[0m\u001b[37m\u001b[0m \u001b[1m0s\u001b[0m 664us/step - accuracy: 0.9152 - auc: 0.8923 - loss: 0.2519 - val_accuracy: 0.9308 - val_auc: 0.9116 - val_loss: 0.2316\n",
      "Epoch 4/100\n",
      "\u001b[1m523/523\u001b[0m \u001b[32m━━━━━━━━━━━━━━━━━━━━\u001b[0m\u001b[37m\u001b[0m \u001b[1m0s\u001b[0m 691us/step - accuracy: 0.9265 - auc: 0.9006 - loss: 0.2289 - val_accuracy: 0.9340 - val_auc: 0.9170 - val_loss: 0.2195\n",
      "Epoch 5/100\n",
      "\u001b[1m523/523\u001b[0m \u001b[32m━━━━━━━━━━━━━━━━━━━━\u001b[0m\u001b[37m\u001b[0m \u001b[1m0s\u001b[0m 674us/step - accuracy: 0.9288 - auc: 0.9085 - loss: 0.2212 - val_accuracy: 0.9368 - val_auc: 0.9214 - val_loss: 0.2107\n",
      "Epoch 6/100\n",
      "\u001b[1m523/523\u001b[0m \u001b[32m━━━━━━━━━━━━━━━━━━━━\u001b[0m\u001b[37m\u001b[0m \u001b[1m0s\u001b[0m 676us/step - accuracy: 0.9314 - auc: 0.9109 - loss: 0.2138 - val_accuracy: 0.9327 - val_auc: 0.9233 - val_loss: 0.2069\n",
      "Epoch 7/100\n",
      "\u001b[1m523/523\u001b[0m \u001b[32m━━━━━━━━━━━━━━━━━━━━\u001b[0m\u001b[37m\u001b[0m \u001b[1m0s\u001b[0m 674us/step - accuracy: 0.9306 - auc: 0.9192 - loss: 0.2093 - val_accuracy: 0.9378 - val_auc: 0.9242 - val_loss: 0.2022\n",
      "Epoch 8/100\n",
      "\u001b[1m523/523\u001b[0m \u001b[32m━━━━━━━━━━━━━━━━━━━━\u001b[0m\u001b[37m\u001b[0m \u001b[1m0s\u001b[0m 679us/step - accuracy: 0.9322 - auc: 0.9181 - loss: 0.2059 - val_accuracy: 0.9377 - val_auc: 0.9259 - val_loss: 0.1989\n",
      "Epoch 9/100\n",
      "\u001b[1m523/523\u001b[0m \u001b[32m━━━━━━━━━━━━━━━━━━━━\u001b[0m\u001b[37m\u001b[0m \u001b[1m0s\u001b[0m 679us/step - accuracy: 0.9340 - auc: 0.9211 - loss: 0.2036 - val_accuracy: 0.9382 - val_auc: 0.9264 - val_loss: 0.1963\n",
      "Epoch 10/100\n",
      "\u001b[1m523/523\u001b[0m \u001b[32m━━━━━━━━━━━━━━━━━━━━\u001b[0m\u001b[37m\u001b[0m \u001b[1m0s\u001b[0m 667us/step - accuracy: 0.9355 - auc: 0.9229 - loss: 0.1980 - val_accuracy: 0.9395 - val_auc: 0.9274 - val_loss: 0.1944\n",
      "Epoch 11/100\n",
      "\u001b[1m523/523\u001b[0m \u001b[32m━━━━━━━━━━━━━━━━━━━━\u001b[0m\u001b[37m\u001b[0m \u001b[1m0s\u001b[0m 680us/step - accuracy: 0.9344 - auc: 0.9216 - loss: 0.2001 - val_accuracy: 0.9399 - val_auc: 0.9280 - val_loss: 0.1929\n",
      "Epoch 12/100\n",
      "\u001b[1m523/523\u001b[0m \u001b[32m━━━━━━━━━━━━━━━━━━━━\u001b[0m\u001b[37m\u001b[0m \u001b[1m0s\u001b[0m 698us/step - accuracy: 0.9357 - auc: 0.9243 - loss: 0.1978 - val_accuracy: 0.9402 - val_auc: 0.9285 - val_loss: 0.1931\n",
      "Epoch 13/100\n",
      "\u001b[1m523/523\u001b[0m \u001b[32m━━━━━━━━━━━━━━━━━━━━\u001b[0m\u001b[37m\u001b[0m \u001b[1m0s\u001b[0m 688us/step - accuracy: 0.9381 - auc: 0.9266 - loss: 0.1910 - val_accuracy: 0.9380 - val_auc: 0.9309 - val_loss: 0.1926\n",
      "Epoch 14/100\n",
      "\u001b[1m523/523\u001b[0m \u001b[32m━━━━━━━━━━━━━━━━━━━━\u001b[0m\u001b[37m\u001b[0m \u001b[1m0s\u001b[0m 705us/step - accuracy: 0.9361 - auc: 0.9211 - loss: 0.1965 - val_accuracy: 0.9411 - val_auc: 0.9296 - val_loss: 0.1907\n",
      "Epoch 15/100\n",
      "\u001b[1m523/523\u001b[0m \u001b[32m━━━━━━━━━━━━━━━━━━━━\u001b[0m\u001b[37m\u001b[0m \u001b[1m0s\u001b[0m 711us/step - accuracy: 0.9378 - auc: 0.9249 - loss: 0.1940 - val_accuracy: 0.9399 - val_auc: 0.9313 - val_loss: 0.1895\n",
      "Epoch 16/100\n",
      "\u001b[1m523/523\u001b[0m \u001b[32m━━━━━━━━━━━━━━━━━━━━\u001b[0m\u001b[37m\u001b[0m \u001b[1m0s\u001b[0m 705us/step - accuracy: 0.9365 - auc: 0.9229 - loss: 0.1969 - val_accuracy: 0.9406 - val_auc: 0.9306 - val_loss: 0.1900\n",
      "Epoch 17/100\n",
      "\u001b[1m523/523\u001b[0m \u001b[32m━━━━━━━━━━━━━━━━━━━━\u001b[0m\u001b[37m\u001b[0m \u001b[1m0s\u001b[0m 686us/step - accuracy: 0.9340 - auc: 0.9242 - loss: 0.1974 - val_accuracy: 0.9404 - val_auc: 0.9312 - val_loss: 0.1906\n",
      "Epoch 18/100\n",
      "\u001b[1m523/523\u001b[0m \u001b[32m━━━━━━━━━━━━━━━━━━━━\u001b[0m\u001b[37m\u001b[0m \u001b[1m0s\u001b[0m 689us/step - accuracy: 0.9368 - auc: 0.9236 - loss: 0.1945 - val_accuracy: 0.9399 - val_auc: 0.9318 - val_loss: 0.1883\n",
      "Epoch 19/100\n",
      "\u001b[1m523/523\u001b[0m \u001b[32m━━━━━━━━━━━━━━━━━━━━\u001b[0m\u001b[37m\u001b[0m \u001b[1m0s\u001b[0m 697us/step - accuracy: 0.9375 - auc: 0.9249 - loss: 0.1923 - val_accuracy: 0.9408 - val_auc: 0.9325 - val_loss: 0.1869\n",
      "Epoch 20/100\n",
      "\u001b[1m523/523\u001b[0m \u001b[32m━━━━━━━━━━━━━━━━━━━━\u001b[0m\u001b[37m\u001b[0m \u001b[1m0s\u001b[0m 725us/step - accuracy: 0.9393 - auc: 0.9260 - loss: 0.1897 - val_accuracy: 0.9414 - val_auc: 0.9326 - val_loss: 0.1858\n",
      "Epoch 21/100\n",
      "\u001b[1m523/523\u001b[0m \u001b[32m━━━━━━━━━━━━━━━━━━━━\u001b[0m\u001b[37m\u001b[0m \u001b[1m0s\u001b[0m 756us/step - accuracy: 0.9395 - auc: 0.9272 - loss: 0.1884 - val_accuracy: 0.9409 - val_auc: 0.9331 - val_loss: 0.1877\n",
      "Epoch 22/100\n",
      "\u001b[1m523/523\u001b[0m \u001b[32m━━━━━━━━━━━━━━━━━━━━\u001b[0m\u001b[37m\u001b[0m \u001b[1m0s\u001b[0m 723us/step - accuracy: 0.9402 - auc: 0.9271 - loss: 0.1875 - val_accuracy: 0.9433 - val_auc: 0.9326 - val_loss: 0.1852\n",
      "Epoch 23/100\n",
      "\u001b[1m523/523\u001b[0m \u001b[32m━━━━━━━━━━━━━━━━━━━━\u001b[0m\u001b[37m\u001b[0m \u001b[1m0s\u001b[0m 729us/step - accuracy: 0.9408 - auc: 0.9300 - loss: 0.1854 - val_accuracy: 0.9435 - val_auc: 0.9338 - val_loss: 0.1843\n",
      "Epoch 24/100\n",
      "\u001b[1m523/523\u001b[0m \u001b[32m━━━━━━━━━━━━━━━━━━━━\u001b[0m\u001b[37m\u001b[0m \u001b[1m0s\u001b[0m 729us/step - accuracy: 0.9381 - auc: 0.9254 - loss: 0.1907 - val_accuracy: 0.9433 - val_auc: 0.9331 - val_loss: 0.1853\n",
      "Epoch 25/100\n",
      "\u001b[1m523/523\u001b[0m \u001b[32m━━━━━━━━━━━━━━━━━━━━\u001b[0m\u001b[37m\u001b[0m \u001b[1m0s\u001b[0m 757us/step - accuracy: 0.9420 - auc: 0.9325 - loss: 0.1835 - val_accuracy: 0.9430 - val_auc: 0.9325 - val_loss: 0.1855\n",
      "Epoch 26/100\n",
      "\u001b[1m523/523\u001b[0m \u001b[32m━━━━━━━━━━━━━━━━━━━━\u001b[0m\u001b[37m\u001b[0m \u001b[1m0s\u001b[0m 731us/step - accuracy: 0.9399 - auc: 0.9270 - loss: 0.1882 - val_accuracy: 0.9413 - val_auc: 0.9328 - val_loss: 0.1857\n",
      "Epoch 27/100\n",
      "\u001b[1m523/523\u001b[0m \u001b[32m━━━━━━━━━━━━━━━━━━━━\u001b[0m\u001b[37m\u001b[0m \u001b[1m0s\u001b[0m 742us/step - accuracy: 0.9424 - auc: 0.9258 - loss: 0.1847 - val_accuracy: 0.9421 - val_auc: 0.9327 - val_loss: 0.1848\n",
      "Epoch 28/100\n",
      "\u001b[1m523/523\u001b[0m \u001b[32m━━━━━━━━━━━━━━━━━━━━\u001b[0m\u001b[37m\u001b[0m \u001b[1m0s\u001b[0m 756us/step - accuracy: 0.9427 - auc: 0.9310 - loss: 0.1815 - val_accuracy: 0.9432 - val_auc: 0.9329 - val_loss: 0.1847\n",
      "Epoch 29/100\n",
      "\u001b[1m523/523\u001b[0m \u001b[32m━━━━━━━━━━━━━━━━━━━━\u001b[0m\u001b[37m\u001b[0m \u001b[1m0s\u001b[0m 766us/step - accuracy: 0.9408 - auc: 0.9309 - loss: 0.1860 - val_accuracy: 0.9392 - val_auc: 0.9330 - val_loss: 0.1922\n",
      "Epoch 30/100\n",
      "\u001b[1m523/523\u001b[0m \u001b[32m━━━━━━━━━━━━━━━━━━━━\u001b[0m\u001b[37m\u001b[0m \u001b[1m0s\u001b[0m 746us/step - accuracy: 0.9400 - auc: 0.9283 - loss: 0.1863 - val_accuracy: 0.9437 - val_auc: 0.9322 - val_loss: 0.1853\n",
      "Epoch 31/100\n",
      "\u001b[1m523/523\u001b[0m \u001b[32m━━━━━━━━━━━━━━━━━━━━\u001b[0m\u001b[37m\u001b[0m \u001b[1m0s\u001b[0m 743us/step - accuracy: 0.9418 - auc: 0.9303 - loss: 0.1835 - val_accuracy: 0.9442 - val_auc: 0.9333 - val_loss: 0.1846\n",
      "Epoch 32/100\n",
      "\u001b[1m523/523\u001b[0m \u001b[32m━━━━━━━━━━━━━━━━━━━━\u001b[0m\u001b[37m\u001b[0m \u001b[1m0s\u001b[0m 731us/step - accuracy: 0.9410 - auc: 0.9276 - loss: 0.1873 - val_accuracy: 0.9437 - val_auc: 0.9342 - val_loss: 0.1836\n",
      "Epoch 33/100\n",
      "\u001b[1m523/523\u001b[0m \u001b[32m━━━━━━━━━━━━━━━━━━━━\u001b[0m\u001b[37m\u001b[0m \u001b[1m0s\u001b[0m 744us/step - accuracy: 0.9405 - auc: 0.9294 - loss: 0.1857 - val_accuracy: 0.9437 - val_auc: 0.9336 - val_loss: 0.1847\n",
      "Epoch 34/100\n",
      "\u001b[1m523/523\u001b[0m \u001b[32m━━━━━━━━━━━━━━━━━━━━\u001b[0m\u001b[37m\u001b[0m \u001b[1m0s\u001b[0m 758us/step - accuracy: 0.9416 - auc: 0.9276 - loss: 0.1849 - val_accuracy: 0.9454 - val_auc: 0.9322 - val_loss: 0.1846\n",
      "Epoch 35/100\n",
      "\u001b[1m523/523\u001b[0m \u001b[32m━━━━━━━━━━━━━━━━━━━━\u001b[0m\u001b[37m\u001b[0m \u001b[1m0s\u001b[0m 753us/step - accuracy: 0.9430 - auc: 0.9260 - loss: 0.1843 - val_accuracy: 0.9440 - val_auc: 0.9334 - val_loss: 0.1828\n",
      "Epoch 36/100\n",
      "\u001b[1m523/523\u001b[0m \u001b[32m━━━━━━━━━━━━━━━━━━━━\u001b[0m\u001b[37m\u001b[0m \u001b[1m0s\u001b[0m 742us/step - accuracy: 0.9425 - auc: 0.9297 - loss: 0.1827 - val_accuracy: 0.9421 - val_auc: 0.9328 - val_loss: 0.1842\n",
      "Epoch 37/100\n",
      "\u001b[1m523/523\u001b[0m \u001b[32m━━━━━━━━━━━━━━━━━━━━\u001b[0m\u001b[37m\u001b[0m \u001b[1m0s\u001b[0m 712us/step - accuracy: 0.9411 - auc: 0.9282 - loss: 0.1862 - val_accuracy: 0.9437 - val_auc: 0.9332 - val_loss: 0.1858\n",
      "Epoch 38/100\n",
      "\u001b[1m523/523\u001b[0m \u001b[32m━━━━━━━━━━━━━━━━━━━━\u001b[0m\u001b[37m\u001b[0m \u001b[1m0s\u001b[0m 750us/step - accuracy: 0.9401 - auc: 0.9283 - loss: 0.1869 - val_accuracy: 0.9440 - val_auc: 0.9333 - val_loss: 0.1829\n",
      "Epoch 39/100\n",
      "\u001b[1m523/523\u001b[0m \u001b[32m━━━━━━━━━━━━━━━━━━━━\u001b[0m\u001b[37m\u001b[0m \u001b[1m0s\u001b[0m 731us/step - accuracy: 0.9408 - auc: 0.9308 - loss: 0.1824 - val_accuracy: 0.9409 - val_auc: 0.9347 - val_loss: 0.1835\n",
      "Epoch 40/100\n",
      "\u001b[1m523/523\u001b[0m \u001b[32m━━━━━━━━━━━━━━━━━━━━\u001b[0m\u001b[37m\u001b[0m \u001b[1m0s\u001b[0m 739us/step - accuracy: 0.9411 - auc: 0.9291 - loss: 0.1834 - val_accuracy: 0.9447 - val_auc: 0.9344 - val_loss: 0.1826\n",
      "Epoch 41/100\n",
      "\u001b[1m523/523\u001b[0m \u001b[32m━━━━━━━━━━━━━━━━━━━━\u001b[0m\u001b[37m\u001b[0m \u001b[1m0s\u001b[0m 798us/step - accuracy: 0.9409 - auc: 0.9293 - loss: 0.1864 - val_accuracy: 0.9439 - val_auc: 0.9334 - val_loss: 0.1833\n",
      "Epoch 42/100\n",
      "\u001b[1m523/523\u001b[0m \u001b[32m━━━━━━━━━━━━━━━━━━━━\u001b[0m\u001b[37m\u001b[0m \u001b[1m0s\u001b[0m 768us/step - accuracy: 0.9428 - auc: 0.9317 - loss: 0.1792 - val_accuracy: 0.9449 - val_auc: 0.9339 - val_loss: 0.1823\n",
      "Epoch 43/100\n",
      "\u001b[1m523/523\u001b[0m \u001b[32m━━━━━━━━━━━━━━━━━━━━\u001b[0m\u001b[37m\u001b[0m \u001b[1m0s\u001b[0m 713us/step - accuracy: 0.9410 - auc: 0.9306 - loss: 0.1842 - val_accuracy: 0.9456 - val_auc: 0.9336 - val_loss: 0.1817\n",
      "Epoch 44/100\n",
      "\u001b[1m523/523\u001b[0m \u001b[32m━━━━━━━━━━━━━━━━━━━━\u001b[0m\u001b[37m\u001b[0m \u001b[1m0s\u001b[0m 759us/step - accuracy: 0.9437 - auc: 0.9298 - loss: 0.1808 - val_accuracy: 0.9445 - val_auc: 0.9344 - val_loss: 0.1818\n",
      "Epoch 45/100\n",
      "\u001b[1m523/523\u001b[0m \u001b[32m━━━━━━━━━━━━━━━━━━━━\u001b[0m\u001b[37m\u001b[0m \u001b[1m0s\u001b[0m 740us/step - accuracy: 0.9404 - auc: 0.9297 - loss: 0.1851 - val_accuracy: 0.9444 - val_auc: 0.9339 - val_loss: 0.1826\n",
      "Epoch 46/100\n",
      "\u001b[1m523/523\u001b[0m \u001b[32m━━━━━━━━━━━━━━━━━━━━\u001b[0m\u001b[37m\u001b[0m \u001b[1m0s\u001b[0m 730us/step - accuracy: 0.9425 - auc: 0.9292 - loss: 0.1823 - val_accuracy: 0.9457 - val_auc: 0.9332 - val_loss: 0.1828\n",
      "Epoch 47/100\n",
      "\u001b[1m523/523\u001b[0m \u001b[32m━━━━━━━━━━━━━━━━━━━━\u001b[0m\u001b[37m\u001b[0m \u001b[1m0s\u001b[0m 731us/step - accuracy: 0.9415 - auc: 0.9285 - loss: 0.1833 - val_accuracy: 0.9456 - val_auc: 0.9341 - val_loss: 0.1826\n",
      "Epoch 48/100\n",
      "\u001b[1m523/523\u001b[0m \u001b[32m━━━━━━━━━━━━━━━━━━━━\u001b[0m\u001b[37m\u001b[0m \u001b[1m0s\u001b[0m 747us/step - accuracy: 0.9416 - auc: 0.9285 - loss: 0.1844 - val_accuracy: 0.9444 - val_auc: 0.9336 - val_loss: 0.1840\n",
      "Epoch 49/100\n",
      "\u001b[1m523/523\u001b[0m \u001b[32m━━━━━━━━━━━━━━━━━━━━\u001b[0m\u001b[37m\u001b[0m \u001b[1m0s\u001b[0m 780us/step - accuracy: 0.9435 - auc: 0.9297 - loss: 0.1818 - val_accuracy: 0.9457 - val_auc: 0.9334 - val_loss: 0.1835\n",
      "Epoch 50/100\n",
      "\u001b[1m523/523\u001b[0m \u001b[32m━━━━━━━━━━━━━━━━━━━━\u001b[0m\u001b[37m\u001b[0m \u001b[1m0s\u001b[0m 733us/step - accuracy: 0.9401 - auc: 0.9283 - loss: 0.1862 - val_accuracy: 0.9452 - val_auc: 0.9338 - val_loss: 0.1829\n",
      "Epoch 51/100\n",
      "\u001b[1m523/523\u001b[0m \u001b[32m━━━━━━━━━━━━━━━━━━━━\u001b[0m\u001b[37m\u001b[0m \u001b[1m0s\u001b[0m 767us/step - accuracy: 0.9402 - auc: 0.9261 - loss: 0.1887 - val_accuracy: 0.9449 - val_auc: 0.9342 - val_loss: 0.1817\n",
      "Epoch 52/100\n",
      "\u001b[1m523/523\u001b[0m \u001b[32m━━━━━━━━━━━━━━━━━━━━\u001b[0m\u001b[37m\u001b[0m \u001b[1m0s\u001b[0m 730us/step - accuracy: 0.9401 - auc: 0.9283 - loss: 0.1853 - val_accuracy: 0.9463 - val_auc: 0.9343 - val_loss: 0.1810\n",
      "Epoch 53/100\n",
      "\u001b[1m523/523\u001b[0m \u001b[32m━━━━━━━━━━━━━━━━━━━━\u001b[0m\u001b[37m\u001b[0m \u001b[1m0s\u001b[0m 733us/step - accuracy: 0.9422 - auc: 0.9302 - loss: 0.1835 - val_accuracy: 0.9454 - val_auc: 0.9337 - val_loss: 0.1819\n",
      "Epoch 54/100\n",
      "\u001b[1m523/523\u001b[0m \u001b[32m━━━━━━━━━━━━━━━━━━━━\u001b[0m\u001b[37m\u001b[0m \u001b[1m0s\u001b[0m 792us/step - accuracy: 0.9437 - auc: 0.9292 - loss: 0.1802 - val_accuracy: 0.9457 - val_auc: 0.9336 - val_loss: 0.1833\n",
      "Epoch 55/100\n",
      "\u001b[1m523/523\u001b[0m \u001b[32m━━━━━━━━━━━━━━━━━━━━\u001b[0m\u001b[37m\u001b[0m \u001b[1m0s\u001b[0m 740us/step - accuracy: 0.9415 - auc: 0.9333 - loss: 0.1806 - val_accuracy: 0.9451 - val_auc: 0.9339 - val_loss: 0.1823\n",
      "Epoch 56/100\n",
      "\u001b[1m523/523\u001b[0m \u001b[32m━━━━━━━━━━━━━━━━━━━━\u001b[0m\u001b[37m\u001b[0m \u001b[1m0s\u001b[0m 739us/step - accuracy: 0.9428 - auc: 0.9309 - loss: 0.1799 - val_accuracy: 0.9457 - val_auc: 0.9335 - val_loss: 0.1811\n",
      "Epoch 57/100\n",
      "\u001b[1m523/523\u001b[0m \u001b[32m━━━━━━━━━━━━━━━━━━━━\u001b[0m\u001b[37m\u001b[0m \u001b[1m0s\u001b[0m 739us/step - accuracy: 0.9425 - auc: 0.9327 - loss: 0.1800 - val_accuracy: 0.9444 - val_auc: 0.9343 - val_loss: 0.1816\n",
      "Epoch 58/100\n",
      "\u001b[1m523/523\u001b[0m \u001b[32m━━━━━━━━━━━━━━━━━━━━\u001b[0m\u001b[37m\u001b[0m \u001b[1m0s\u001b[0m 733us/step - accuracy: 0.9410 - auc: 0.9283 - loss: 0.1866 - val_accuracy: 0.9463 - val_auc: 0.9335 - val_loss: 0.1818\n",
      "Epoch 59/100\n",
      "\u001b[1m523/523\u001b[0m \u001b[32m━━━━━━━━━━━━━━━━━━━━\u001b[0m\u001b[37m\u001b[0m \u001b[1m0s\u001b[0m 755us/step - accuracy: 0.9390 - auc: 0.9298 - loss: 0.1889 - val_accuracy: 0.9454 - val_auc: 0.9348 - val_loss: 0.1812\n",
      "Epoch 60/100\n",
      "\u001b[1m523/523\u001b[0m \u001b[32m━━━━━━━━━━━━━━━━━━━━\u001b[0m\u001b[37m\u001b[0m \u001b[1m0s\u001b[0m 736us/step - accuracy: 0.9431 - auc: 0.9301 - loss: 0.1802 - val_accuracy: 0.9456 - val_auc: 0.9336 - val_loss: 0.1826\n",
      "Epoch 61/100\n",
      "\u001b[1m523/523\u001b[0m \u001b[32m━━━━━━━━━━━━━━━━━━━━\u001b[0m\u001b[37m\u001b[0m \u001b[1m0s\u001b[0m 754us/step - accuracy: 0.9393 - auc: 0.9278 - loss: 0.1886 - val_accuracy: 0.9459 - val_auc: 0.9329 - val_loss: 0.1822\n",
      "Epoch 62/100\n",
      "\u001b[1m523/523\u001b[0m \u001b[32m━━━━━━━━━━━━━━━━━━━━\u001b[0m\u001b[37m\u001b[0m \u001b[1m0s\u001b[0m 732us/step - accuracy: 0.9429 - auc: 0.9323 - loss: 0.1793 - val_accuracy: 0.9454 - val_auc: 0.9335 - val_loss: 0.1823\n",
      "Epoch 63/100\n",
      "\u001b[1m523/523\u001b[0m \u001b[32m━━━━━━━━━━━━━━━━━━━━\u001b[0m\u001b[37m\u001b[0m \u001b[1m0s\u001b[0m 786us/step - accuracy: 0.9400 - auc: 0.9305 - loss: 0.1865 - val_accuracy: 0.9449 - val_auc: 0.9339 - val_loss: 0.1823\n",
      "Epoch 64/100\n",
      "\u001b[1m523/523\u001b[0m \u001b[32m━━━━━━━━━━━━━━━━━━━━\u001b[0m\u001b[37m\u001b[0m \u001b[1m0s\u001b[0m 740us/step - accuracy: 0.9400 - auc: 0.9268 - loss: 0.1875 - val_accuracy: 0.9437 - val_auc: 0.9341 - val_loss: 0.1832\n",
      "Epoch 65/100\n",
      "\u001b[1m523/523\u001b[0m \u001b[32m━━━━━━━━━━━━━━━━━━━━\u001b[0m\u001b[37m\u001b[0m \u001b[1m0s\u001b[0m 779us/step - accuracy: 0.9412 - auc: 0.9319 - loss: 0.1818 - val_accuracy: 0.9466 - val_auc: 0.9336 - val_loss: 0.1823\n",
      "Epoch 66/100\n",
      "\u001b[1m523/523\u001b[0m \u001b[32m━━━━━━━━━━━━━━━━━━━━\u001b[0m\u001b[37m\u001b[0m \u001b[1m0s\u001b[0m 752us/step - accuracy: 0.9442 - auc: 0.9300 - loss: 0.1783 - val_accuracy: 0.9466 - val_auc: 0.9344 - val_loss: 0.1825\n",
      "Epoch 67/100\n",
      "\u001b[1m523/523\u001b[0m \u001b[32m━━━━━━━━━━━━━━━━━━━━\u001b[0m\u001b[37m\u001b[0m \u001b[1m0s\u001b[0m 701us/step - accuracy: 0.9411 - auc: 0.9295 - loss: 0.1850 - val_accuracy: 0.9466 - val_auc: 0.9345 - val_loss: 0.1812\n",
      "Epoch 68/100\n",
      "\u001b[1m523/523\u001b[0m \u001b[32m━━━━━━━━━━━━━━━━━━━━\u001b[0m\u001b[37m\u001b[0m \u001b[1m0s\u001b[0m 767us/step - accuracy: 0.9425 - auc: 0.9297 - loss: 0.1821 - val_accuracy: 0.9468 - val_auc: 0.9339 - val_loss: 0.1808\n",
      "Epoch 69/100\n",
      "\u001b[1m523/523\u001b[0m \u001b[32m━━━━━━━━━━━━━━━━━━━━\u001b[0m\u001b[37m\u001b[0m \u001b[1m0s\u001b[0m 729us/step - accuracy: 0.9417 - auc: 0.9294 - loss: 0.1840 - val_accuracy: 0.9456 - val_auc: 0.9343 - val_loss: 0.1806\n",
      "Epoch 70/100\n",
      "\u001b[1m523/523\u001b[0m \u001b[32m━━━━━━━━━━━━━━━━━━━━\u001b[0m\u001b[37m\u001b[0m \u001b[1m0s\u001b[0m 731us/step - accuracy: 0.9408 - auc: 0.9281 - loss: 0.1844 - val_accuracy: 0.9456 - val_auc: 0.9339 - val_loss: 0.1810\n",
      "Epoch 71/100\n",
      "\u001b[1m523/523\u001b[0m \u001b[32m━━━━━━━━━━━━━━━━━━━━\u001b[0m\u001b[37m\u001b[0m \u001b[1m0s\u001b[0m 766us/step - accuracy: 0.9438 - auc: 0.9322 - loss: 0.1790 - val_accuracy: 0.9437 - val_auc: 0.9343 - val_loss: 0.1852\n",
      "Epoch 72/100\n",
      "\u001b[1m523/523\u001b[0m \u001b[32m━━━━━━━━━━━━━━━━━━━━\u001b[0m\u001b[37m\u001b[0m \u001b[1m0s\u001b[0m 709us/step - accuracy: 0.9411 - auc: 0.9255 - loss: 0.1865 - val_accuracy: 0.9463 - val_auc: 0.9338 - val_loss: 0.1808\n",
      "Epoch 73/100\n",
      "\u001b[1m523/523\u001b[0m \u001b[32m━━━━━━━━━━━━━━━━━━━━\u001b[0m\u001b[37m\u001b[0m \u001b[1m0s\u001b[0m 739us/step - accuracy: 0.9430 - auc: 0.9317 - loss: 0.1805 - val_accuracy: 0.9475 - val_auc: 0.9341 - val_loss: 0.1809\n",
      "Epoch 74/100\n",
      "\u001b[1m523/523\u001b[0m \u001b[32m━━━━━━━━━━━━━━━━━━━━\u001b[0m\u001b[37m\u001b[0m \u001b[1m0s\u001b[0m 765us/step - accuracy: 0.9420 - auc: 0.9295 - loss: 0.1819 - val_accuracy: 0.9470 - val_auc: 0.9350 - val_loss: 0.1804\n",
      "Epoch 75/100\n",
      "\u001b[1m523/523\u001b[0m \u001b[32m━━━━━━━━━━━━━━━━━━━━\u001b[0m\u001b[37m\u001b[0m \u001b[1m0s\u001b[0m 734us/step - accuracy: 0.9400 - auc: 0.9306 - loss: 0.1853 - val_accuracy: 0.9456 - val_auc: 0.9340 - val_loss: 0.1815\n",
      "Epoch 76/100\n",
      "\u001b[1m523/523\u001b[0m \u001b[32m━━━━━━━━━━━━━━━━━━━━\u001b[0m\u001b[37m\u001b[0m \u001b[1m0s\u001b[0m 733us/step - accuracy: 0.9399 - auc: 0.9303 - loss: 0.1859 - val_accuracy: 0.9461 - val_auc: 0.9344 - val_loss: 0.1804\n",
      "Epoch 77/100\n",
      "\u001b[1m523/523\u001b[0m \u001b[32m━━━━━━━━━━━━━━━━━━━━\u001b[0m\u001b[37m\u001b[0m \u001b[1m0s\u001b[0m 778us/step - accuracy: 0.9442 - auc: 0.9305 - loss: 0.1794 - val_accuracy: 0.9476 - val_auc: 0.9345 - val_loss: 0.1808\n",
      "Epoch 78/100\n",
      "\u001b[1m523/523\u001b[0m \u001b[32m━━━━━━━━━━━━━━━━━━━━\u001b[0m\u001b[37m\u001b[0m \u001b[1m0s\u001b[0m 706us/step - accuracy: 0.9438 - auc: 0.9323 - loss: 0.1797 - val_accuracy: 0.9459 - val_auc: 0.9342 - val_loss: 0.1813\n",
      "Epoch 79/100\n",
      "\u001b[1m523/523\u001b[0m \u001b[32m━━━━━━━━━━━━━━━━━━━━\u001b[0m\u001b[37m\u001b[0m \u001b[1m0s\u001b[0m 741us/step - accuracy: 0.9436 - auc: 0.9299 - loss: 0.1807 - val_accuracy: 0.9478 - val_auc: 0.9344 - val_loss: 0.1808\n",
      "Epoch 80/100\n",
      "\u001b[1m523/523\u001b[0m \u001b[32m━━━━━━━━━━━━━━━━━━━━\u001b[0m\u001b[37m\u001b[0m \u001b[1m0s\u001b[0m 751us/step - accuracy: 0.9428 - auc: 0.9292 - loss: 0.1827 - val_accuracy: 0.9468 - val_auc: 0.9345 - val_loss: 0.1806\n",
      "Epoch 81/100\n",
      "\u001b[1m523/523\u001b[0m \u001b[32m━━━━━━━━━━━━━━━━━━━━\u001b[0m\u001b[37m\u001b[0m \u001b[1m0s\u001b[0m 752us/step - accuracy: 0.9426 - auc: 0.9339 - loss: 0.1786 - val_accuracy: 0.9471 - val_auc: 0.9352 - val_loss: 0.1806\n",
      "Epoch 82/100\n",
      "\u001b[1m523/523\u001b[0m \u001b[32m━━━━━━━━━━━━━━━━━━━━\u001b[0m\u001b[37m\u001b[0m \u001b[1m0s\u001b[0m 754us/step - accuracy: 0.9417 - auc: 0.9275 - loss: 0.1833 - val_accuracy: 0.9452 - val_auc: 0.9349 - val_loss: 0.1812\n",
      "Epoch 83/100\n"
     ]
    },
    {
     "name": "stdout",
     "output_type": "stream",
     "text": [
      "\u001b[1m523/523\u001b[0m \u001b[32m━━━━━━━━━━━━━━━━━━━━\u001b[0m\u001b[37m\u001b[0m \u001b[1m0s\u001b[0m 740us/step - accuracy: 0.9419 - auc: 0.9289 - loss: 0.1815 - val_accuracy: 0.9478 - val_auc: 0.9354 - val_loss: 0.1794\n",
      "Epoch 84/100\n",
      "\u001b[1m523/523\u001b[0m \u001b[32m━━━━━━━━━━━━━━━━━━━━\u001b[0m\u001b[37m\u001b[0m \u001b[1m0s\u001b[0m 731us/step - accuracy: 0.9418 - auc: 0.9329 - loss: 0.1808 - val_accuracy: 0.9464 - val_auc: 0.9343 - val_loss: 0.1806\n",
      "Epoch 85/100\n",
      "\u001b[1m523/523\u001b[0m \u001b[32m━━━━━━━━━━━━━━━━━━━━\u001b[0m\u001b[37m\u001b[0m \u001b[1m0s\u001b[0m 702us/step - accuracy: 0.9415 - auc: 0.9291 - loss: 0.1834 - val_accuracy: 0.9473 - val_auc: 0.9348 - val_loss: 0.1808\n",
      "Epoch 86/100\n",
      "\u001b[1m523/523\u001b[0m \u001b[32m━━━━━━━━━━━━━━━━━━━━\u001b[0m\u001b[37m\u001b[0m \u001b[1m0s\u001b[0m 748us/step - accuracy: 0.9431 - auc: 0.9331 - loss: 0.1791 - val_accuracy: 0.9471 - val_auc: 0.9341 - val_loss: 0.1808\n",
      "Epoch 87/100\n",
      "\u001b[1m523/523\u001b[0m \u001b[32m━━━━━━━━━━━━━━━━━━━━\u001b[0m\u001b[37m\u001b[0m \u001b[1m0s\u001b[0m 733us/step - accuracy: 0.9431 - auc: 0.9323 - loss: 0.1799 - val_accuracy: 0.9459 - val_auc: 0.9348 - val_loss: 0.1807\n",
      "Epoch 88/100\n",
      "\u001b[1m523/523\u001b[0m \u001b[32m━━━━━━━━━━━━━━━━━━━━\u001b[0m\u001b[37m\u001b[0m \u001b[1m0s\u001b[0m 762us/step - accuracy: 0.9413 - auc: 0.9324 - loss: 0.1829 - val_accuracy: 0.9456 - val_auc: 0.9342 - val_loss: 0.1810\n",
      "Epoch 89/100\n",
      "\u001b[1m523/523\u001b[0m \u001b[32m━━━━━━━━━━━━━━━━━━━━\u001b[0m\u001b[37m\u001b[0m \u001b[1m0s\u001b[0m 726us/step - accuracy: 0.9420 - auc: 0.9283 - loss: 0.1831 - val_accuracy: 0.9470 - val_auc: 0.9333 - val_loss: 0.1817\n",
      "Epoch 90/100\n",
      "\u001b[1m523/523\u001b[0m \u001b[32m━━━━━━━━━━━━━━━━━━━━\u001b[0m\u001b[37m\u001b[0m \u001b[1m0s\u001b[0m 761us/step - accuracy: 0.9406 - auc: 0.9314 - loss: 0.1837 - val_accuracy: 0.9473 - val_auc: 0.9337 - val_loss: 0.1815\n",
      "Epoch 91/100\n",
      "\u001b[1m523/523\u001b[0m \u001b[32m━━━━━━━━━━━━━━━━━━━━\u001b[0m\u001b[37m\u001b[0m \u001b[1m0s\u001b[0m 740us/step - accuracy: 0.9408 - auc: 0.9304 - loss: 0.1851 - val_accuracy: 0.9461 - val_auc: 0.9342 - val_loss: 0.1813\n",
      "Epoch 92/100\n",
      "\u001b[1m523/523\u001b[0m \u001b[32m━━━━━━━━━━━━━━━━━━━━\u001b[0m\u001b[37m\u001b[0m \u001b[1m0s\u001b[0m 729us/step - accuracy: 0.9402 - auc: 0.9258 - loss: 0.1872 - val_accuracy: 0.9478 - val_auc: 0.9336 - val_loss: 0.1808\n",
      "Epoch 93/100\n",
      "\u001b[1m523/523\u001b[0m \u001b[32m━━━━━━━━━━━━━━━━━━━━\u001b[0m\u001b[37m\u001b[0m \u001b[1m0s\u001b[0m 737us/step - accuracy: 0.9427 - auc: 0.9367 - loss: 0.1766 - val_accuracy: 0.9461 - val_auc: 0.9344 - val_loss: 0.1809\n",
      "Epoch 94/100\n",
      "\u001b[1m523/523\u001b[0m \u001b[32m━━━━━━━━━━━━━━━━━━━━\u001b[0m\u001b[37m\u001b[0m \u001b[1m0s\u001b[0m 736us/step - accuracy: 0.9436 - auc: 0.9325 - loss: 0.1784 - val_accuracy: 0.9475 - val_auc: 0.9329 - val_loss: 0.1819\n",
      "Epoch 95/100\n",
      "\u001b[1m523/523\u001b[0m \u001b[32m━━━━━━━━━━━━━━━━━━━━\u001b[0m\u001b[37m\u001b[0m \u001b[1m0s\u001b[0m 744us/step - accuracy: 0.9441 - auc: 0.9339 - loss: 0.1787 - val_accuracy: 0.9470 - val_auc: 0.9350 - val_loss: 0.1800\n",
      "Epoch 96/100\n",
      "\u001b[1m523/523\u001b[0m \u001b[32m━━━━━━━━━━━━━━━━━━━━\u001b[0m\u001b[37m\u001b[0m \u001b[1m0s\u001b[0m 735us/step - accuracy: 0.9420 - auc: 0.9320 - loss: 0.1822 - val_accuracy: 0.9466 - val_auc: 0.9343 - val_loss: 0.1802\n",
      "Epoch 97/100\n",
      "\u001b[1m523/523\u001b[0m \u001b[32m━━━━━━━━━━━━━━━━━━━━\u001b[0m\u001b[37m\u001b[0m \u001b[1m0s\u001b[0m 720us/step - accuracy: 0.9429 - auc: 0.9351 - loss: 0.1785 - val_accuracy: 0.9454 - val_auc: 0.9341 - val_loss: 0.1838\n",
      "Epoch 98/100\n",
      "\u001b[1m523/523\u001b[0m \u001b[32m━━━━━━━━━━━━━━━━━━━━\u001b[0m\u001b[37m\u001b[0m \u001b[1m0s\u001b[0m 734us/step - accuracy: 0.9417 - auc: 0.9293 - loss: 0.1827 - val_accuracy: 0.9476 - val_auc: 0.9330 - val_loss: 0.1810\n",
      "Epoch 99/100\n",
      "\u001b[1m523/523\u001b[0m \u001b[32m━━━━━━━━━━━━━━━━━━━━\u001b[0m\u001b[37m\u001b[0m \u001b[1m0s\u001b[0m 761us/step - accuracy: 0.9428 - auc: 0.9275 - loss: 0.1820 - val_accuracy: 0.9468 - val_auc: 0.9341 - val_loss: 0.1801\n",
      "Epoch 100/100\n",
      "\u001b[1m523/523\u001b[0m \u001b[32m━━━━━━━━━━━━━━━━━━━━\u001b[0m\u001b[37m\u001b[0m \u001b[1m0s\u001b[0m 746us/step - accuracy: 0.9451 - auc: 0.9317 - loss: 0.1759 - val_accuracy: 0.9475 - val_auc: 0.9334 - val_loss: 0.1805\n"
     ]
    }
   ],
   "source": [
    "import tensorflow as tf\n",
    "from tensorflow.keras import layers, optimizers\n",
    "\n",
    "\n",
    "model = tf.keras.Sequential()\n",
    "model.add(layers.BatchNormalization())\n",
    "model.add(layers.Dense(16, activation='tanh'))\n",
    "model.add(layers.Dense(16, activation='tanh'))\n",
    "model.add(layers.Dense(4, activation='sigmoid'))\n",
    "model.add(layers.Dense(1, activation='sigmoid'))\n",
    "optimizer=\"adam\" #optimizers.SGD(learning_rate=0.01)\n",
    "model.compile(optimizer=optimizer, loss='binary_crossentropy', metrics=['accuracy', 'auc'])\n",
    "\n",
    "hist = model.fit(X_train, y_train, epochs=100, batch_size=100, validation_split=0.1)"
   ]
  },
  {
   "cell_type": "code",
   "execution_count": 45,
   "id": "1a5fcdf4",
   "metadata": {},
   "outputs": [
    {
     "data": {
      "image/png": "[encoded data removed]",
      "text/plain": [
       "<Figure size 640x480 with 1 Axes>"
      ]
     },
     "metadata": {},
     "output_type": "display_data"
    }
   ],
   "source": [
    "plt.plot(hist.history['auc'])\n",
    "plt.plot(hist.history['val_auc'])\n",
    "plt.title('model accuracy')\n",
    "plt.ylabel('AUC-ROC')\n",
    "plt.xlabel('epoch')\n",
    "plt.ylim([0.92, 0.97])\n",
    "plt.grid()\n",
    "plt.legend(['train', 'val'], loc='upper left')\n",
    "plt.show()"
   ]
  },
  {
   "cell_type": "code",
   "execution_count": null,
   "id": "7f42beaf",
   "metadata": {},
   "outputs": [],
   "source": []
  },
  {
   "cell_type": "code",
   "execution_count": null,
   "id": "4131d9a9",
   "metadata": {},
   "outputs": [],
   "source": []
  },
  {
   "cell_type": "code",
   "execution_count": null,
   "id": "f338fff6",
   "metadata": {},
   "outputs": [],
   "source": []
  },
  {
   "cell_type": "code",
   "execution_count": null,
   "id": "c87c18ae",
   "metadata": {},
   "outputs": [],
   "source": []
  },
  {
   "cell_type": "code",
   "execution_count": 46,
   "id": "b079c5d0",
   "metadata": {},
   "outputs": [
    {
     "name": "stdout",
     "output_type": "stream",
     "text": [
      "\u001b[1m19/19\u001b[0m \u001b[32m━━━━━━━━━━━━━━━━━━━━\u001b[0m\u001b[37m\u001b[0m \u001b[1m0s\u001b[0m 2ms/step \n"
     ]
    },
    {
     "data": {
      "image/png": "[encoded data removed]",
      "text/plain": [
       "<Figure size 640x480 with 1 Axes>"
      ]
     },
     "metadata": {},
     "output_type": "display_data"
    }
   ],
   "source": [
    "# Validation.\n",
    "\n",
    "y_pred_proba = model.predict(X_val)\n",
    "fpr, tpr, _ = metrics.roc_curve(y_val, y_pred_proba)\n",
    "auc = metrics.roc_auc_score(y_val, y_pred_proba)\n",
    "plt.plot(fpr,tpr,label=\"data 1, auc=\"+str(auc))\n",
    "plt.legend(loc=4)\n",
    "plt.show()"
   ]
  },
  {
   "cell_type": "code",
   "execution_count": 52,
   "id": "70ff45ea",
   "metadata": {},
   "outputs": [
    {
     "name": "stdout",
     "output_type": "stream",
     "text": [
      "(39098, 19)\n",
      "\u001b[1m1222/1222\u001b[0m \u001b[32m━━━━━━━━━━━━━━━━━━━━\u001b[0m\u001b[37m\u001b[0m \u001b[1m0s\u001b[0m 362us/step\n"
     ]
    }
   ],
   "source": [
    "df_test = pd.read_csv('test.csv')\n",
    "X_test = df_to_x(df_test)\n",
    "print(X_test.shape)\n",
    "\n",
    "y_pred = model.predict(X_test).reshape((-1))\n",
    "\n",
    "df_ans = pd.DataFrame({\"id\":df_test['id'], \"loan_status\": y_pred})\n",
    "df_ans.to_csv('ans_nn.csv',index=False)"
   ]
  },
  {
   "cell_type": "markdown",
   "id": "f4ff8699",
   "metadata": {},
   "source": [
    "Kaggle score 0.93124."
   ]
  }
 ],
 "metadata": {
  "kernelspec": {
   "display_name": "Python 3 (ipykernel)",
   "language": "python",
   "name": "python3"
  },
  "language_info": {
   "codemirror_mode": {
    "name": "ipython",
    "version": 3
   },
   "file_extension": ".py",
   "mimetype": "text/x-python",
   "name": "python",
   "nbconvert_exporter": "python",
   "pygments_lexer": "ipython3",
   "version": "3.10.12"
  }
 },
 "nbformat": 4,
 "nbformat_minor": 5
}
