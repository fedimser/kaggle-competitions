{
 "cells": [
  {
   "cell_type": "code",
   "execution_count": 2,
   "id": "216dfc7f",
   "metadata": {},
   "outputs": [],
   "source": [
    "import pandas as pd\n",
    "import numpy as np\n",
    "from matplotlib import pyplot as plt\n",
    "import tensorflow as tf\n",
    "from tensorflow import keras\n",
    "from tensorflow.keras import layers, optimizers, regularizers\n",
    "import os"
   ]
  },
  {
   "cell_type": "markdown",
   "id": "de5b8314",
   "metadata": {},
   "source": [
    "### Preparing data"
   ]
  },
  {
   "cell_type": "code",
   "execution_count": 3,
   "id": "e15f3214",
   "metadata": {},
   "outputs": [],
   "source": [
    "df_train = pd.read_csv('train.csv')\n",
    "X_train = np.array(df_train)[:, 1:]\n",
    "assert X_train.shape == (42000, 28*28)\n",
    "X_train = X_train.reshape((42000, 28, 28, 1))\n",
    "y_train = np.array(df_train['label'])\n",
    "y_train_cat = keras.utils.to_categorical(y_train, num_classes=10)\n",
    "\n",
    "df_test = pd.read_csv('test.csv')\n",
    "X_test =  np.array(df_test)\n",
    "assert X_test.shape == (28000, 28*28)\n",
    "X_test = X_test.reshape((28000, 28, 28, 1))"
   ]
  },
  {
   "cell_type": "markdown",
   "id": "a4883d67",
   "metadata": {},
   "source": [
    "### Training"
   ]
  },
  {
   "cell_type": "code",
   "execution_count": 4,
   "id": "b686716c",
   "metadata": {},
   "outputs": [
    {
     "name": "stderr",
     "output_type": "stream",
     "text": [
      "/home/fedimser/.local/lib/python3.10/site-packages/keras/src/layers/convolutional/base_conv.py:107: UserWarning: Do not pass an `input_shape`/`input_dim` argument to a layer. When using Sequential models, prefer using an `Input(shape)` object as the first layer in the model instead.\n",
      "  super().__init__(activity_regularizer=activity_regularizer, **kwargs)\n"
     ]
    }
   ],
   "source": [
    "model = keras.Sequential([\n",
    "layers.Conv2D(filters = 32, kernel_size = 5, strides = 1, \n",
    "              activation = \"relu\", input_shape = (28,28,1), kernel_regularizer=regularizers.l2(0.0005)),\n",
    "layers.Conv2D(filters = 32, kernel_size = 5, strides = 1, use_bias=False),\n",
    "layers.BatchNormalization(),\n",
    "layers.Activation(\"relu\"),\n",
    "layers.MaxPooling2D(pool_size = 2, strides = 2),\n",
    "layers.Dropout(0.25),\n",
    "layers.Conv2D(filters = 64, kernel_size = 3, strides = 1, activation = \"relu\", \n",
    "              kernel_regularizer=regularizers.l2(0.0005)),\n",
    "layers.Conv2D(filters = 64, kernel_size = 3, strides = 1, use_bias=False),\n",
    "layers.BatchNormalization(),\n",
    "layers.Activation(\"relu\"),\n",
    "layers.MaxPooling2D(pool_size = 2, strides = 2),\n",
    "layers.Dropout(0.25),\n",
    "layers.Flatten(),\n",
    "layers.Dense(units = 256, use_bias=False),\n",
    "layers.BatchNormalization(),\n",
    "layers.Activation(\"relu\"),\n",
    "layers.Dense(units = 128, use_bias=False),\n",
    "layers.BatchNormalization(),\n",
    "layers.Activation(\"relu\"),\n",
    "layers.Dense(units = 84, use_bias=False),\n",
    "layers.BatchNormalization(),\n",
    "layers.Activation(\"relu\"),\n",
    "layers.Dropout(0.25),\n",
    "layers.Dense(units = 10, activation = \"softmax\")\n",
    "])\n",
    "model.compile(optimizer=\"adam\",\n",
    "              loss=keras.losses.categorical_crossentropy,\n",
    "              metrics=[\"accuracy\"])"
   ]
  },
  {
   "cell_type": "code",
   "execution_count": 5,
   "id": "8a3ff92f",
   "metadata": {},
   "outputs": [
    {
     "name": "stdout",
     "output_type": "stream",
     "text": [
      "\u001b[1m38/38\u001b[0m \u001b[32m━━━━━━━━━━━━━━━━━━━━\u001b[0m\u001b[37m\u001b[0m \u001b[1m33s\u001b[0m 815ms/step - accuracy: 0.5544 - loss: 1.4351 - val_accuracy: 0.7231 - val_loss: 1.7208\n"
     ]
    },
    {
     "data": {
      "text/plain": [
       "<keras.src.callbacks.history.History at 0x7e71905f9030>"
      ]
     },
     "execution_count": 5,
     "metadata": {},
     "output_type": "execute_result"
    }
   ],
   "source": [
    "model.fit(X_train, y_train_cat, epochs=1, batch_size=1000, validation_split=0.1)      "
   ]
  },
  {
   "cell_type": "code",
   "execution_count": 6,
   "id": "6ad2ed41",
   "metadata": {},
   "outputs": [
    {
     "name": "stdout",
     "output_type": "stream",
     "text": [
      "Loaded weights.\n"
     ]
    }
   ],
   "source": [
    "CHECKPOINT_PATH = \"model3.weights.h5\"\n",
    "if os.path.exists(CHECKPOINT_PATH):\n",
    "  model.load_weights(CHECKPOINT_PATH)\n",
    "  print(\"Loaded weights.\")"
   ]
  },
  {
   "cell_type": "code",
   "execution_count": 7,
   "id": "6cfdddec",
   "metadata": {},
   "outputs": [
    {
     "name": "stdout",
     "output_type": "stream",
     "text": [
      "Epoch 1/10\n",
      "\u001b[1m378/378\u001b[0m \u001b[32m━━━━━━━━━━━━━━━━━━━━\u001b[0m\u001b[37m\u001b[0m \u001b[1m0s\u001b[0m 82ms/step - accuracy: 0.9976 - loss: 0.0131\n",
      "Epoch 1: saving model to model3.weights.h5\n",
      "\u001b[1m378/378\u001b[0m \u001b[32m━━━━━━━━━━━━━━━━━━━━\u001b[0m\u001b[37m\u001b[0m \u001b[1m31s\u001b[0m 83ms/step - accuracy: 0.9976 - loss: 0.0131 - val_accuracy: 0.9938 - val_loss: 0.0286\n",
      "Epoch 2/10\n",
      "\u001b[1m378/378\u001b[0m \u001b[32m━━━━━━━━━━━━━━━━━━━━\u001b[0m\u001b[37m\u001b[0m \u001b[1m0s\u001b[0m 81ms/step - accuracy: 0.9974 - loss: 0.0145\n",
      "Epoch 2: saving model to model3.weights.h5\n",
      "\u001b[1m378/378\u001b[0m \u001b[32m━━━━━━━━━━━━━━━━━━━━\u001b[0m\u001b[37m\u001b[0m \u001b[1m31s\u001b[0m 83ms/step - accuracy: 0.9974 - loss: 0.0145 - val_accuracy: 0.9943 - val_loss: 0.0275\n",
      "Epoch 3/10\n",
      "\u001b[1m378/378\u001b[0m \u001b[32m━━━━━━━━━━━━━━━━━━━━\u001b[0m\u001b[37m\u001b[0m \u001b[1m0s\u001b[0m 81ms/step - accuracy: 0.9983 - loss: 0.0120\n",
      "Epoch 3: saving model to model3.weights.h5\n",
      "\u001b[1m378/378\u001b[0m \u001b[32m━━━━━━━━━━━━━━━━━━━━\u001b[0m\u001b[37m\u001b[0m \u001b[1m31s\u001b[0m 83ms/step - accuracy: 0.9983 - loss: 0.0120 - val_accuracy: 0.9933 - val_loss: 0.0317\n",
      "Epoch 4/10\n",
      "\u001b[1m378/378\u001b[0m \u001b[32m━━━━━━━━━━━━━━━━━━━━\u001b[0m\u001b[37m\u001b[0m \u001b[1m0s\u001b[0m 82ms/step - accuracy: 0.9968 - loss: 0.0163\n",
      "Epoch 4: saving model to model3.weights.h5\n",
      "\u001b[1m378/378\u001b[0m \u001b[32m━━━━━━━━━━━━━━━━━━━━\u001b[0m\u001b[37m\u001b[0m \u001b[1m31s\u001b[0m 83ms/step - accuracy: 0.9968 - loss: 0.0163 - val_accuracy: 0.9919 - val_loss: 0.0342\n",
      "Epoch 5/10\n",
      "\u001b[1m378/378\u001b[0m \u001b[32m━━━━━━━━━━━━━━━━━━━━\u001b[0m\u001b[37m\u001b[0m \u001b[1m0s\u001b[0m 85ms/step - accuracy: 0.9973 - loss: 0.0147\n",
      "Epoch 5: saving model to model3.weights.h5\n",
      "\u001b[1m378/378\u001b[0m \u001b[32m━━━━━━━━━━━━━━━━━━━━\u001b[0m\u001b[37m\u001b[0m \u001b[1m33s\u001b[0m 86ms/step - accuracy: 0.9973 - loss: 0.0147 - val_accuracy: 0.9936 - val_loss: 0.0310\n",
      "Epoch 6/10\n",
      "\u001b[1m378/378\u001b[0m \u001b[32m━━━━━━━━━━━━━━━━━━━━\u001b[0m\u001b[37m\u001b[0m \u001b[1m0s\u001b[0m 84ms/step - accuracy: 0.9974 - loss: 0.0153\n",
      "Epoch 6: saving model to model3.weights.h5\n",
      "\u001b[1m378/378\u001b[0m \u001b[32m━━━━━━━━━━━━━━━━━━━━\u001b[0m\u001b[37m\u001b[0m \u001b[1m32s\u001b[0m 85ms/step - accuracy: 0.9974 - loss: 0.0153 - val_accuracy: 0.9933 - val_loss: 0.0293\n",
      "Epoch 7/10\n",
      "\u001b[1m378/378\u001b[0m \u001b[32m━━━━━━━━━━━━━━━━━━━━\u001b[0m\u001b[37m\u001b[0m \u001b[1m0s\u001b[0m 82ms/step - accuracy: 0.9979 - loss: 0.0125\n",
      "Epoch 7: saving model to model3.weights.h5\n",
      "\u001b[1m378/378\u001b[0m \u001b[32m━━━━━━━━━━━━━━━━━━━━\u001b[0m\u001b[37m\u001b[0m \u001b[1m31s\u001b[0m 83ms/step - accuracy: 0.9979 - loss: 0.0125 - val_accuracy: 0.9938 - val_loss: 0.0242\n",
      "Epoch 8/10\n",
      "\u001b[1m378/378\u001b[0m \u001b[32m━━━━━━━━━━━━━━━━━━━━\u001b[0m\u001b[37m\u001b[0m \u001b[1m0s\u001b[0m 83ms/step - accuracy: 0.9980 - loss: 0.0121\n",
      "Epoch 8: saving model to model3.weights.h5\n",
      "\u001b[1m378/378\u001b[0m \u001b[32m━━━━━━━━━━━━━━━━━━━━\u001b[0m\u001b[37m\u001b[0m \u001b[1m32s\u001b[0m 84ms/step - accuracy: 0.9980 - loss: 0.0121 - val_accuracy: 0.9950 - val_loss: 0.0267\n",
      "Epoch 9/10\n",
      "\u001b[1m378/378\u001b[0m \u001b[32m━━━━━━━━━━━━━━━━━━━━\u001b[0m\u001b[37m\u001b[0m \u001b[1m0s\u001b[0m 83ms/step - accuracy: 0.9979 - loss: 0.0124\n",
      "Epoch 9: saving model to model3.weights.h5\n",
      "\u001b[1m378/378\u001b[0m \u001b[32m━━━━━━━━━━━━━━━━━━━━\u001b[0m\u001b[37m\u001b[0m \u001b[1m32s\u001b[0m 85ms/step - accuracy: 0.9979 - loss: 0.0124 - val_accuracy: 0.9926 - val_loss: 0.0416\n",
      "Epoch 10/10\n",
      "\u001b[1m378/378\u001b[0m \u001b[32m━━━━━━━━━━━━━━━━━━━━\u001b[0m\u001b[37m\u001b[0m \u001b[1m0s\u001b[0m 83ms/step - accuracy: 0.9979 - loss: 0.0131\n",
      "Epoch 10: saving model to model3.weights.h5\n",
      "\u001b[1m378/378\u001b[0m \u001b[32m━━━━━━━━━━━━━━━━━━━━\u001b[0m\u001b[37m\u001b[0m \u001b[1m32s\u001b[0m 84ms/step - accuracy: 0.9979 - loss: 0.0131 - val_accuracy: 0.9948 - val_loss: 0.0276\n"
     ]
    }
   ],
   "source": [
    "cp_callback = tf.keras.callbacks.ModelCheckpoint(filepath=CHECKPOINT_PATH,\n",
    "                                                 save_weights_only=True,\n",
    "                                                 verbose=1)\n",
    "_ = model.fit(X_train, y_train_cat, epochs=10, batch_size=100, validation_split=0.1, callbacks=[cp_callback])  "
   ]
  },
  {
   "cell_type": "markdown",
   "id": "bee8de5e",
   "metadata": {},
   "source": [
    "## Prediction"
   ]
  },
  {
   "cell_type": "code",
   "execution_count": 8,
   "id": "70ff45ea",
   "metadata": {
    "scrolled": true
   },
   "outputs": [
    {
     "name": "stdout",
     "output_type": "stream",
     "text": [
      "\u001b[1m875/875\u001b[0m \u001b[32m━━━━━━━━━━━━━━━━━━━━\u001b[0m\u001b[37m\u001b[0m \u001b[1m3s\u001b[0m 4ms/step\n"
     ]
    }
   ],
   "source": [
    "y_pred = model.predict(X_test)\n",
    "df_ans = pd.DataFrame({\"ImageId\":list(range(1,28001)), \"Label\": np.argmax(y_pred, axis=1)})\n",
    "df_ans.to_csv('ans_nn.csv',index=False)"
   ]
  },
  {
   "cell_type": "markdown",
   "id": "edc18e2e",
   "metadata": {},
   "source": [
    "Kaggle score is 0.99267."
   ]
  }
 ],
 "metadata": {
  "kernelspec": {
   "display_name": "Python 3 (ipykernel)",
   "language": "python",
   "name": "python3"
  },
  "language_info": {
   "codemirror_mode": {
    "name": "ipython",
    "version": 3
   },
   "file_extension": ".py",
   "mimetype": "text/x-python",
   "name": "python",
   "nbconvert_exporter": "python",
   "pygments_lexer": "ipython3",
   "version": "3.10.12"
  }
 },
 "nbformat": 4,
 "nbformat_minor": 5
}
