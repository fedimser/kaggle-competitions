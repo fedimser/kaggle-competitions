{
 "cells": [
  {
   "cell_type": "code",
   "execution_count": 2,
   "id": "216dfc7f",
   "metadata": {},
   "outputs": [],
   "source": [
    "import pandas as pd\n",
    "import numpy as np\n",
    "from matplotlib import pyplot as plt\n",
    "import tensorflow as tf\n",
    "from tensorflow import keras\n",
    "from tensorflow.keras import layers, optimizers, regularizers\n",
    "import os"
   ]
  },
  {
   "cell_type": "markdown",
   "id": "de5b8314",
   "metadata": {},
   "source": [
    "### Preparing data"
   ]
  },
  {
   "cell_type": "code",
   "execution_count": 3,
   "id": "e15f3214",
   "metadata": {},
   "outputs": [],
   "source": [
    "df_train = pd.read_csv('train.csv')\n",
    "X_train = np.array(df_train)[:, 1:]\n",
    "assert X_train.shape == (42000, 28*28)\n",
    "X_train = X_train.reshape((42000, 28, 28, 1))\n",
    "y_train = np.array(df_train['label'])\n",
    "y_train_cat = keras.utils.to_categorical(y_train, num_classes=10)\n",
    "\n",
    "df_test = pd.read_csv('test.csv')\n",
    "X_test =  np.array(df_test)\n",
    "assert X_test.shape == (28000, 28*28)\n",
    "X_test = X_test.reshape((28000, 28, 28, 1))"
   ]
  },
  {
   "cell_type": "markdown",
   "id": "a4883d67",
   "metadata": {},
   "source": [
    "### Training"
   ]
  },
  {
   "cell_type": "code",
   "execution_count": 4,
   "id": "b686716c",
   "metadata": {},
   "outputs": [
    {
     "name": "stderr",
     "output_type": "stream",
     "text": [
      "/home/fedimser/.local/lib/python3.10/site-packages/keras/src/layers/convolutional/base_conv.py:107: UserWarning: Do not pass an `input_shape`/`input_dim` argument to a layer. When using Sequential models, prefer using an `Input(shape)` object as the first layer in the model instead.\n",
      "  super().__init__(activity_regularizer=activity_regularizer, **kwargs)\n"
     ]
    }
   ],
   "source": [
    "model = keras.Sequential([\n",
    "layers.Conv2D(filters = 32, kernel_size = 5, strides = 1, \n",
    "              activation = \"relu\", input_shape = (28,28,1), kernel_regularizer=regularizers.l2(0.0005)),\n",
    "layers.Conv2D(filters = 32, kernel_size = 5, strides = 1, use_bias=False),\n",
    "layers.BatchNormalization(),\n",
    "layers.Activation(\"relu\"),\n",
    "layers.MaxPooling2D(pool_size = 2, strides = 2),\n",
    "layers.Dropout(0.25),\n",
    "layers.Conv2D(filters = 64, kernel_size = 3, strides = 1, activation = \"relu\", \n",
    "              kernel_regularizer=regularizers.l2(0.0005)),\n",
    "layers.Conv2D(filters = 64, kernel_size = 3, strides = 1, use_bias=False),\n",
    "layers.BatchNormalization(),\n",
    "layers.Activation(\"relu\"),\n",
    "layers.MaxPooling2D(pool_size = 2, strides = 2),\n",
    "layers.Dropout(0.25),\n",
    "layers.Flatten(),\n",
    "layers.Dense(units = 256, use_bias=False),\n",
    "layers.BatchNormalization(),\n",
    "layers.Activation(\"relu\"),\n",
    "layers.Dense(units = 128, use_bias=False),\n",
    "layers.BatchNormalization(),\n",
    "layers.Activation(\"relu\"),\n",
    "layers.Dense(units = 84, use_bias=False),\n",
    "layers.BatchNormalization(),\n",
    "layers.Activation(\"relu\"),\n",
    "layers.Dropout(0.25),\n",
    "layers.Dense(units = 10, activation = \"softmax\")\n",
    "])\n",
    "model.compile(optimizer=\"adam\",\n",
    "              loss=keras.losses.categorical_crossentropy,\n",
    "              metrics=[\"accuracy\"])"
   ]
  },
  {
   "cell_type": "code",
   "execution_count": 5,
   "id": "8a3ff92f",
   "metadata": {},
   "outputs": [
    {
     "name": "stdout",
     "output_type": "stream",
     "text": [
      "\u001b[1m38/38\u001b[0m \u001b[32m━━━━━━━━━━━━━━━━━━━━\u001b[0m\u001b[37m\u001b[0m \u001b[1m35s\u001b[0m 861ms/step - accuracy: 0.5568 - loss: 1.4122 - val_accuracy: 0.5910 - val_loss: 2.0804\n"
     ]
    },
    {
     "data": {
      "text/plain": [
       "<keras.src.callbacks.history.History at 0x7454f7cd1270>"
      ]
     },
     "execution_count": 5,
     "metadata": {},
     "output_type": "execute_result"
    }
   ],
   "source": [
    "model.fit(X_train, y_train_cat, epochs=1, batch_size=1000, validation_split=0.1)      "
   ]
  },
  {
   "cell_type": "code",
   "execution_count": 6,
   "id": "6ad2ed41",
   "metadata": {},
   "outputs": [
    {
     "name": "stdout",
     "output_type": "stream",
     "text": [
      "Loaded weights.\n"
     ]
    }
   ],
   "source": [
    "CHECKPOINT_PATH = \"model3.weights.h5\"\n",
    "if os.path.exists(CHECKPOINT_PATH):\n",
    "  model.load_weights(CHECKPOINT_PATH)\n",
    "  print(\"Loaded weights.\")"
   ]
  },
  {
   "cell_type": "code",
   "execution_count": 7,
   "id": "6cfdddec",
   "metadata": {},
   "outputs": [
    {
     "name": "stdout",
     "output_type": "stream",
     "text": [
      "Epoch 1/30\n",
      "\u001b[1m378/378\u001b[0m \u001b[32m━━━━━━━━━━━━━━━━━━━━\u001b[0m\u001b[37m\u001b[0m \u001b[1m0s\u001b[0m 84ms/step - accuracy: 0.9342 - loss: 0.2533\n",
      "Epoch 1: saving model to model3.weights.h5\n",
      "\u001b[1m378/378\u001b[0m \u001b[32m━━━━━━━━━━━━━━━━━━━━\u001b[0m\u001b[37m\u001b[0m \u001b[1m32s\u001b[0m 85ms/step - accuracy: 0.9343 - loss: 0.2531 - val_accuracy: 0.9817 - val_loss: 0.0779\n",
      "Epoch 2/30\n",
      "\u001b[1m378/378\u001b[0m \u001b[32m━━━━━━━━━━━━━━━━━━━━\u001b[0m\u001b[37m\u001b[0m \u001b[1m0s\u001b[0m 84ms/step - accuracy: 0.9765 - loss: 0.0926\n",
      "Epoch 2: saving model to model3.weights.h5\n",
      "\u001b[1m378/378\u001b[0m \u001b[32m━━━━━━━━━━━━━━━━━━━━\u001b[0m\u001b[37m\u001b[0m \u001b[1m32s\u001b[0m 85ms/step - accuracy: 0.9765 - loss: 0.0926 - val_accuracy: 0.9876 - val_loss: 0.0618\n",
      "Epoch 3/30\n",
      "\u001b[1m378/378\u001b[0m \u001b[32m━━━━━━━━━━━━━━━━━━━━\u001b[0m\u001b[37m\u001b[0m \u001b[1m0s\u001b[0m 86ms/step - accuracy: 0.9826 - loss: 0.0747\n",
      "Epoch 3: saving model to model3.weights.h5\n",
      "\u001b[1m378/378\u001b[0m \u001b[32m━━━━━━━━━━━━━━━━━━━━\u001b[0m\u001b[37m\u001b[0m \u001b[1m33s\u001b[0m 87ms/step - accuracy: 0.9826 - loss: 0.0747 - val_accuracy: 0.9838 - val_loss: 0.0604\n",
      "Epoch 4/30\n",
      "\u001b[1m378/378\u001b[0m \u001b[32m━━━━━━━━━━━━━━━━━━━━\u001b[0m\u001b[37m\u001b[0m \u001b[1m0s\u001b[0m 114ms/step - accuracy: 0.9848 - loss: 0.0658\n",
      "Epoch 4: saving model to model3.weights.h5\n",
      "\u001b[1m378/378\u001b[0m \u001b[32m━━━━━━━━━━━━━━━━━━━━\u001b[0m\u001b[37m\u001b[0m \u001b[1m45s\u001b[0m 119ms/step - accuracy: 0.9848 - loss: 0.0658 - val_accuracy: 0.9798 - val_loss: 0.0723\n",
      "Epoch 5/30\n",
      "\u001b[1m378/378\u001b[0m \u001b[32m━━━━━━━━━━━━━━━━━━━━\u001b[0m\u001b[37m\u001b[0m \u001b[1m0s\u001b[0m 177ms/step - accuracy: 0.9873 - loss: 0.0552\n",
      "Epoch 5: saving model to model3.weights.h5\n",
      "\u001b[1m378/378\u001b[0m \u001b[32m━━━━━━━━━━━━━━━━━━━━\u001b[0m\u001b[37m\u001b[0m \u001b[1m68s\u001b[0m 181ms/step - accuracy: 0.9873 - loss: 0.0552 - val_accuracy: 0.9876 - val_loss: 0.0551\n",
      "Epoch 6/30\n",
      "\u001b[1m378/378\u001b[0m \u001b[32m━━━━━━━━━━━━━━━━━━━━\u001b[0m\u001b[37m\u001b[0m \u001b[1m0s\u001b[0m 133ms/step - accuracy: 0.9888 - loss: 0.0506\n",
      "Epoch 6: saving model to model3.weights.h5\n",
      "\u001b[1m378/378\u001b[0m \u001b[32m━━━━━━━━━━━━━━━━━━━━\u001b[0m\u001b[37m\u001b[0m \u001b[1m51s\u001b[0m 134ms/step - accuracy: 0.9888 - loss: 0.0506 - val_accuracy: 0.9905 - val_loss: 0.0368\n",
      "Epoch 7/30\n",
      "\u001b[1m378/378\u001b[0m \u001b[32m━━━━━━━━━━━━━━━━━━━━\u001b[0m\u001b[37m\u001b[0m \u001b[1m0s\u001b[0m 85ms/step - accuracy: 0.9898 - loss: 0.0441\n",
      "Epoch 7: saving model to model3.weights.h5\n",
      "\u001b[1m378/378\u001b[0m \u001b[32m━━━━━━━━━━━━━━━━━━━━\u001b[0m\u001b[37m\u001b[0m \u001b[1m33s\u001b[0m 86ms/step - accuracy: 0.9898 - loss: 0.0442 - val_accuracy: 0.9883 - val_loss: 0.0475\n",
      "Epoch 8/30\n",
      "\u001b[1m378/378\u001b[0m \u001b[32m━━━━━━━━━━━━━━━━━━━━\u001b[0m\u001b[37m\u001b[0m \u001b[1m0s\u001b[0m 88ms/step - accuracy: 0.9891 - loss: 0.0447\n",
      "Epoch 8: saving model to model3.weights.h5\n",
      "\u001b[1m378/378\u001b[0m \u001b[32m━━━━━━━━━━━━━━━━━━━━\u001b[0m\u001b[37m\u001b[0m \u001b[1m34s\u001b[0m 90ms/step - accuracy: 0.9891 - loss: 0.0447 - val_accuracy: 0.9919 - val_loss: 0.0312\n",
      "Epoch 9/30\n",
      "\u001b[1m378/378\u001b[0m \u001b[32m━━━━━━━━━━━━━━━━━━━━\u001b[0m\u001b[37m\u001b[0m \u001b[1m0s\u001b[0m 85ms/step - accuracy: 0.9899 - loss: 0.0421\n",
      "Epoch 9: saving model to model3.weights.h5\n",
      "\u001b[1m378/378\u001b[0m \u001b[32m━━━━━━━━━━━━━━━━━━━━\u001b[0m\u001b[37m\u001b[0m \u001b[1m32s\u001b[0m 86ms/step - accuracy: 0.9899 - loss: 0.0421 - val_accuracy: 0.9931 - val_loss: 0.0334\n",
      "Epoch 10/30\n",
      "\u001b[1m378/378\u001b[0m \u001b[32m━━━━━━━━━━━━━━━━━━━━\u001b[0m\u001b[37m\u001b[0m \u001b[1m0s\u001b[0m 83ms/step - accuracy: 0.9903 - loss: 0.0414\n",
      "Epoch 10: saving model to model3.weights.h5\n",
      "\u001b[1m378/378\u001b[0m \u001b[32m━━━━━━━━━━━━━━━━━━━━\u001b[0m\u001b[37m\u001b[0m \u001b[1m32s\u001b[0m 85ms/step - accuracy: 0.9903 - loss: 0.0414 - val_accuracy: 0.9914 - val_loss: 0.0351\n",
      "Epoch 11/30\n",
      "\u001b[1m378/378\u001b[0m \u001b[32m━━━━━━━━━━━━━━━━━━━━\u001b[0m\u001b[37m\u001b[0m \u001b[1m0s\u001b[0m 87ms/step - accuracy: 0.9921 - loss: 0.0360\n",
      "Epoch 11: saving model to model3.weights.h5\n",
      "\u001b[1m378/378\u001b[0m \u001b[32m━━━━━━━━━━━━━━━━━━━━\u001b[0m\u001b[37m\u001b[0m \u001b[1m33s\u001b[0m 88ms/step - accuracy: 0.9921 - loss: 0.0360 - val_accuracy: 0.9905 - val_loss: 0.0418\n",
      "Epoch 12/30\n",
      "\u001b[1m378/378\u001b[0m \u001b[32m━━━━━━━━━━━━━━━━━━━━\u001b[0m\u001b[37m\u001b[0m \u001b[1m0s\u001b[0m 84ms/step - accuracy: 0.9926 - loss: 0.0339\n",
      "Epoch 12: saving model to model3.weights.h5\n",
      "\u001b[1m378/378\u001b[0m \u001b[32m━━━━━━━━━━━━━━━━━━━━\u001b[0m\u001b[37m\u001b[0m \u001b[1m32s\u001b[0m 85ms/step - accuracy: 0.9926 - loss: 0.0339 - val_accuracy: 0.9933 - val_loss: 0.0313\n",
      "Epoch 13/30\n",
      "\u001b[1m378/378\u001b[0m \u001b[32m━━━━━━━━━━━━━━━━━━━━\u001b[0m\u001b[37m\u001b[0m \u001b[1m0s\u001b[0m 85ms/step - accuracy: 0.9920 - loss: 0.0336\n",
      "Epoch 13: saving model to model3.weights.h5\n",
      "\u001b[1m378/378\u001b[0m \u001b[32m━━━━━━━━━━━━━━━━━━━━\u001b[0m\u001b[37m\u001b[0m \u001b[1m33s\u001b[0m 87ms/step - accuracy: 0.9920 - loss: 0.0336 - val_accuracy: 0.9921 - val_loss: 0.0372\n",
      "Epoch 14/30\n",
      "\u001b[1m378/378\u001b[0m \u001b[32m━━━━━━━━━━━━━━━━━━━━\u001b[0m\u001b[37m\u001b[0m \u001b[1m0s\u001b[0m 87ms/step - accuracy: 0.9928 - loss: 0.0320\n",
      "Epoch 14: saving model to model3.weights.h5\n",
      "\u001b[1m378/378\u001b[0m \u001b[32m━━━━━━━━━━━━━━━━━━━━\u001b[0m\u001b[37m\u001b[0m \u001b[1m33s\u001b[0m 88ms/step - accuracy: 0.9928 - loss: 0.0320 - val_accuracy: 0.9924 - val_loss: 0.0336\n",
      "Epoch 15/30\n",
      "\u001b[1m378/378\u001b[0m \u001b[32m━━━━━━━━━━━━━━━━━━━━\u001b[0m\u001b[37m\u001b[0m \u001b[1m0s\u001b[0m 87ms/step - accuracy: 0.9929 - loss: 0.0320\n",
      "Epoch 15: saving model to model3.weights.h5\n",
      "\u001b[1m378/378\u001b[0m \u001b[32m━━━━━━━━━━━━━━━━━━━━\u001b[0m\u001b[37m\u001b[0m \u001b[1m33s\u001b[0m 88ms/step - accuracy: 0.9929 - loss: 0.0320 - val_accuracy: 0.9931 - val_loss: 0.0332\n",
      "Epoch 16/30\n",
      "\u001b[1m378/378\u001b[0m \u001b[32m━━━━━━━━━━━━━━━━━━━━\u001b[0m\u001b[37m\u001b[0m \u001b[1m0s\u001b[0m 83ms/step - accuracy: 0.9932 - loss: 0.0312\n",
      "Epoch 16: saving model to model3.weights.h5\n",
      "\u001b[1m378/378\u001b[0m \u001b[32m━━━━━━━━━━━━━━━━━━━━\u001b[0m\u001b[37m\u001b[0m \u001b[1m32s\u001b[0m 84ms/step - accuracy: 0.9932 - loss: 0.0312 - val_accuracy: 0.9933 - val_loss: 0.0361\n",
      "Epoch 17/30\n",
      "\u001b[1m378/378\u001b[0m \u001b[32m━━━━━━━━━━━━━━━━━━━━\u001b[0m\u001b[37m\u001b[0m \u001b[1m0s\u001b[0m 83ms/step - accuracy: 0.9928 - loss: 0.0303\n",
      "Epoch 17: saving model to model3.weights.h5\n",
      "\u001b[1m378/378\u001b[0m \u001b[32m━━━━━━━━━━━━━━━━━━━━\u001b[0m\u001b[37m\u001b[0m \u001b[1m32s\u001b[0m 84ms/step - accuracy: 0.9928 - loss: 0.0303 - val_accuracy: 0.9926 - val_loss: 0.0332\n",
      "Epoch 18/30\n",
      "\u001b[1m378/378\u001b[0m \u001b[32m━━━━━━━━━━━━━━━━━━━━\u001b[0m\u001b[37m\u001b[0m \u001b[1m0s\u001b[0m 82ms/step - accuracy: 0.9921 - loss: 0.0312\n",
      "Epoch 18: saving model to model3.weights.h5\n",
      "\u001b[1m378/378\u001b[0m \u001b[32m━━━━━━━━━━━━━━━━━━━━\u001b[0m\u001b[37m\u001b[0m \u001b[1m32s\u001b[0m 83ms/step - accuracy: 0.9921 - loss: 0.0312 - val_accuracy: 0.9917 - val_loss: 0.0316\n",
      "Epoch 19/30\n",
      "\u001b[1m378/378\u001b[0m \u001b[32m━━━━━━━━━━━━━━━━━━━━\u001b[0m\u001b[37m\u001b[0m \u001b[1m0s\u001b[0m 82ms/step - accuracy: 0.9942 - loss: 0.0253\n",
      "Epoch 19: saving model to model3.weights.h5\n",
      "\u001b[1m378/378\u001b[0m \u001b[32m━━━━━━━━━━━━━━━━━━━━\u001b[0m\u001b[37m\u001b[0m \u001b[1m32s\u001b[0m 84ms/step - accuracy: 0.9942 - loss: 0.0253 - val_accuracy: 0.9907 - val_loss: 0.0384\n",
      "Epoch 20/30\n",
      "\u001b[1m378/378\u001b[0m \u001b[32m━━━━━━━━━━━━━━━━━━━━\u001b[0m\u001b[37m\u001b[0m \u001b[1m0s\u001b[0m 83ms/step - accuracy: 0.9948 - loss: 0.0247\n",
      "Epoch 20: saving model to model3.weights.h5\n",
      "\u001b[1m378/378\u001b[0m \u001b[32m━━━━━━━━━━━━━━━━━━━━\u001b[0m\u001b[37m\u001b[0m \u001b[1m32s\u001b[0m 85ms/step - accuracy: 0.9948 - loss: 0.0247 - val_accuracy: 0.9919 - val_loss: 0.0326\n",
      "Epoch 21/30\n",
      "\u001b[1m378/378\u001b[0m \u001b[32m━━━━━━━━━━━━━━━━━━━━\u001b[0m\u001b[37m\u001b[0m \u001b[1m0s\u001b[0m 85ms/step - accuracy: 0.9940 - loss: 0.0263\n",
      "Epoch 21: saving model to model3.weights.h5\n",
      "\u001b[1m378/378\u001b[0m \u001b[32m━━━━━━━━━━━━━━━━━━━━\u001b[0m\u001b[37m\u001b[0m \u001b[1m32s\u001b[0m 86ms/step - accuracy: 0.9940 - loss: 0.0263 - val_accuracy: 0.9900 - val_loss: 0.0448\n",
      "Epoch 22/30\n",
      "\u001b[1m378/378\u001b[0m \u001b[32m━━━━━━━━━━━━━━━━━━━━\u001b[0m\u001b[37m\u001b[0m \u001b[1m0s\u001b[0m 84ms/step - accuracy: 0.9936 - loss: 0.0282\n",
      "Epoch 22: saving model to model3.weights.h5\n",
      "\u001b[1m378/378\u001b[0m \u001b[32m━━━━━━━━━━━━━━━━━━━━\u001b[0m\u001b[37m\u001b[0m \u001b[1m32s\u001b[0m 86ms/step - accuracy: 0.9936 - loss: 0.0282 - val_accuracy: 0.9924 - val_loss: 0.0375\n",
      "Epoch 23/30\n",
      "\u001b[1m378/378\u001b[0m \u001b[32m━━━━━━━━━━━━━━━━━━━━\u001b[0m\u001b[37m\u001b[0m \u001b[1m0s\u001b[0m 87ms/step - accuracy: 0.9944 - loss: 0.0252\n",
      "Epoch 23: saving model to model3.weights.h5\n",
      "\u001b[1m378/378\u001b[0m \u001b[32m━━━━━━━━━━━━━━━━━━━━\u001b[0m\u001b[37m\u001b[0m \u001b[1m33s\u001b[0m 88ms/step - accuracy: 0.9944 - loss: 0.0252 - val_accuracy: 0.9914 - val_loss: 0.0371\n",
      "Epoch 24/30\n",
      "\u001b[1m378/378\u001b[0m \u001b[32m━━━━━━━━━━━━━━━━━━━━\u001b[0m\u001b[37m\u001b[0m \u001b[1m0s\u001b[0m 84ms/step - accuracy: 0.9945 - loss: 0.0265\n",
      "Epoch 24: saving model to model3.weights.h5\n",
      "\u001b[1m378/378\u001b[0m \u001b[32m━━━━━━━━━━━━━━━━━━━━\u001b[0m\u001b[37m\u001b[0m \u001b[1m32s\u001b[0m 85ms/step - accuracy: 0.9945 - loss: 0.0265 - val_accuracy: 0.9938 - val_loss: 0.0288\n",
      "Epoch 25/30\n",
      "\u001b[1m378/378\u001b[0m \u001b[32m━━━━━━━━━━━━━━━━━━━━\u001b[0m\u001b[37m\u001b[0m \u001b[1m0s\u001b[0m 84ms/step - accuracy: 0.9948 - loss: 0.0250\n",
      "Epoch 25: saving model to model3.weights.h5\n",
      "\u001b[1m378/378\u001b[0m \u001b[32m━━━━━━━━━━━━━━━━━━━━\u001b[0m\u001b[37m\u001b[0m \u001b[1m32s\u001b[0m 86ms/step - accuracy: 0.9948 - loss: 0.0250 - val_accuracy: 0.9936 - val_loss: 0.0324\n",
      "Epoch 26/30\n",
      "\u001b[1m378/378\u001b[0m \u001b[32m━━━━━━━━━━━━━━━━━━━━\u001b[0m\u001b[37m\u001b[0m \u001b[1m0s\u001b[0m 84ms/step - accuracy: 0.9941 - loss: 0.0257\n",
      "Epoch 26: saving model to model3.weights.h5\n",
      "\u001b[1m378/378\u001b[0m \u001b[32m━━━━━━━━━━━━━━━━━━━━\u001b[0m\u001b[37m\u001b[0m \u001b[1m32s\u001b[0m 86ms/step - accuracy: 0.9941 - loss: 0.0257 - val_accuracy: 0.9917 - val_loss: 0.0295\n"
     ]
    },
    {
     "name": "stdout",
     "output_type": "stream",
     "text": [
      "Epoch 27/30\n",
      "\u001b[1m378/378\u001b[0m \u001b[32m━━━━━━━━━━━━━━━━━━━━\u001b[0m\u001b[37m\u001b[0m \u001b[1m0s\u001b[0m 83ms/step - accuracy: 0.9947 - loss: 0.0242\n",
      "Epoch 27: saving model to model3.weights.h5\n",
      "\u001b[1m378/378\u001b[0m \u001b[32m━━━━━━━━━━━━━━━━━━━━\u001b[0m\u001b[37m\u001b[0m \u001b[1m32s\u001b[0m 84ms/step - accuracy: 0.9947 - loss: 0.0242 - val_accuracy: 0.9933 - val_loss: 0.0286\n",
      "Epoch 28/30\n",
      "\u001b[1m378/378\u001b[0m \u001b[32m━━━━━━━━━━━━━━━━━━━━\u001b[0m\u001b[37m\u001b[0m \u001b[1m0s\u001b[0m 85ms/step - accuracy: 0.9952 - loss: 0.0234\n",
      "Epoch 28: saving model to model3.weights.h5\n",
      "\u001b[1m378/378\u001b[0m \u001b[32m━━━━━━━━━━━━━━━━━━━━\u001b[0m\u001b[37m\u001b[0m \u001b[1m33s\u001b[0m 86ms/step - accuracy: 0.9952 - loss: 0.0235 - val_accuracy: 0.9936 - val_loss: 0.0285\n",
      "Epoch 29/30\n",
      "\u001b[1m378/378\u001b[0m \u001b[32m━━━━━━━━━━━━━━━━━━━━\u001b[0m\u001b[37m\u001b[0m \u001b[1m0s\u001b[0m 86ms/step - accuracy: 0.9957 - loss: 0.0217\n",
      "Epoch 29: saving model to model3.weights.h5\n",
      "\u001b[1m378/378\u001b[0m \u001b[32m━━━━━━━━━━━━━━━━━━━━\u001b[0m\u001b[37m\u001b[0m \u001b[1m33s\u001b[0m 87ms/step - accuracy: 0.9957 - loss: 0.0217 - val_accuracy: 0.9931 - val_loss: 0.0339\n",
      "Epoch 30/30\n",
      "\u001b[1m378/378\u001b[0m \u001b[32m━━━━━━━━━━━━━━━━━━━━\u001b[0m\u001b[37m\u001b[0m \u001b[1m0s\u001b[0m 83ms/step - accuracy: 0.9943 - loss: 0.0260\n",
      "Epoch 30: saving model to model3.weights.h5\n",
      "\u001b[1m378/378\u001b[0m \u001b[32m━━━━━━━━━━━━━━━━━━━━\u001b[0m\u001b[37m\u001b[0m \u001b[1m32s\u001b[0m 85ms/step - accuracy: 0.9943 - loss: 0.0260 - val_accuracy: 0.9931 - val_loss: 0.0314\n"
     ]
    }
   ],
   "source": [
    "cp_callback = tf.keras.callbacks.ModelCheckpoint(filepath=CHECKPOINT_PATH,\n",
    "                                                 save_weights_only=True,\n",
    "                                                 verbose=1)\n",
    "_ = model.fit(X_train, y_train_cat, epochs=30, batch_size=100, validation_split=0.1, callbacks=[cp_callback])  "
   ]
  },
  {
   "cell_type": "markdown",
   "id": "bee8de5e",
   "metadata": {},
   "source": [
    "## Prediction"
   ]
  },
  {
   "cell_type": "code",
   "execution_count": 8,
   "id": "70ff45ea",
   "metadata": {},
   "outputs": [
    {
     "name": "stdout",
     "output_type": "stream",
     "text": [
      "\u001b[1m875/875\u001b[0m \u001b[32m━━━━━━━━━━━━━━━━━━━━\u001b[0m\u001b[37m\u001b[0m \u001b[1m4s\u001b[0m 4ms/step\n"
     ]
    }
   ],
   "source": [
    "y_pred = model.predict(X_test)\n",
    "df_ans = pd.DataFrame({\"ImageId\":list(range(1,28001)), \"Label\": np.argmax(y_pred, axis=1)})\n",
    "df_ans.to_csv('ans_nn.csv',index=False)"
   ]
  },
  {
   "cell_type": "markdown",
   "id": "edc18e2e",
   "metadata": {},
   "source": [
    "Kaggle score is 0.99171."
   ]
  }
 ],
 "metadata": {
  "kernelspec": {
   "display_name": "Python 3 (ipykernel)",
   "language": "python",
   "name": "python3"
  },
  "language_info": {
   "codemirror_mode": {
    "name": "ipython",
    "version": 3
   },
   "file_extension": ".py",
   "mimetype": "text/x-python",
   "name": "python",
   "nbconvert_exporter": "python",
   "pygments_lexer": "ipython3",
   "version": "3.10.12"
  }
 },
 "nbformat": 4,
 "nbformat_minor": 5
}
